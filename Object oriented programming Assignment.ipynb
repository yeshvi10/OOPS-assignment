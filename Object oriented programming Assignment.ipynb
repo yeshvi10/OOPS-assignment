{
 "cells": [
  {
   "cell_type": "markdown",
   "id": "808087f0",
   "metadata": {},
   "source": [
    "# Question_1st:- What are the five key concepts of Object-Oriented Programming (OOP)?"
   ]
  },
  {
   "cell_type": "code",
   "execution_count": 1,
   "id": "118d234c",
   "metadata": {},
   "outputs": [],
   "source": [
    "# The five key concepts of Object-Oriented Programming (OOP) are:\n",
    "\n",
    "# Encapsulation: Bundling data and methods that operate on the data within a single unit, or class, and restricting access to some components.\n",
    "\n",
    "# Abstraction: Hiding the complex implementation details and showing only the essential features of an object.\n",
    "\n",
    "# Inheritance: Allowing a new class to inherit the properties and methods of an existing class, promoting code reuse.\n",
    "\n",
    "# Polymorphism: The ability to present the same interface for different underlying data types, allowing one method to be used for different objects\n",
    "\n",
    "# Class: A blueprint or template for creating objects, defining their attributes and behaviors."
   ]
  },
  {
   "cell_type": "markdown",
   "id": "b442bd2c",
   "metadata": {},
   "source": [
    "# Question_2nd:- Write a Python class for a `Car` with attributes for `make`, `model`, and `year`. Include a method to display the car's information."
   ]
  },
  {
   "cell_type": "code",
   "execution_count": 3,
   "id": "98a85408",
   "metadata": {},
   "outputs": [
    {
     "name": "stdout",
     "output_type": "stream",
     "text": [
      "Car Information: 2020 Toyota Camry\n"
     ]
    }
   ],
   "source": [
    "class Car:\n",
    "    def __init__(self, make, model, year):\n",
    "        self.make = make\n",
    "        self.model = model\n",
    "        self.year = year\n",
    "    \n",
    "    def display_info(self):\n",
    "        print(f\"Car Information: {self.year} {self.make} {self.model}\")\n",
    "my_car = Car(\"Toyota\", \"Camry\", 2020)\n",
    "my_car.display_info()\n"
   ]
  },
  {
   "cell_type": "markdown",
   "id": "fe001b33",
   "metadata": {},
   "source": [
    "# Question_3rd:- Explain the difference between instance methods and class methods. Provide an example of each."
   ]
  },
  {
   "cell_type": "code",
   "execution_count": 4,
   "id": "90122bc0",
   "metadata": {},
   "outputs": [
    {
     "name": "stdout",
     "output_type": "stream",
     "text": [
      "Value: 10\n",
      "Class Attribute: Hello\n"
     ]
    }
   ],
   "source": [
    "# Difference Between Instance Methods and Class Methods:\n",
    "\n",
    "# 1st Method:- Instance Methods:\n",
    "                    # Belong to an instance of a class.\n",
    "                    # Can access and modify instance attributes.\n",
    "                    # Require self as the first parameter\n",
    "class MyClass:\n",
    "    def __init__(self, value):\n",
    "        self.value = value\n",
    "    \n",
    "    def display_value(self):  # Instance method\n",
    "        print(f\"Value: {self.value}\")\n",
    "\n",
    "obj = MyClass(10)\n",
    "obj.display_value()  # Output: Value: 10\n",
    "           \n",
    "\n",
    "# 2nd Method:- Class Methods:\n",
    "                    # Belong to the class itself, not to any instance.\n",
    "                    # Cannot access instance attributes directly but can modify class attributes.\n",
    "                    # Require cls as the first parameter and are decorated with @classmethod.\n",
    "\n",
    "class MyClass:\n",
    "    class_attribute = \"Hello\"\n",
    "    \n",
    "    @classmethod\n",
    "    def display_class_attribute(cls):  # Class method\n",
    "        print(f\"Class Attribute: {cls.class_attribute}\")\n",
    "\n",
    "MyClass.display_class_attribute()  # Output: Class Attribute: Hello\n"
   ]
  },
  {
   "cell_type": "markdown",
   "id": "188fc58b",
   "metadata": {},
   "source": [
    "# Question_4th:-. How does Python implement method overloading? Give an example."
   ]
  },
  {
   "cell_type": "code",
   "execution_count": 5,
   "id": "e7356c6a",
   "metadata": {},
   "outputs": [
    {
     "name": "stdout",
     "output_type": "stream",
     "text": [
      "5\n",
      "15\n",
      "30\n"
     ]
    }
   ],
   "source": [
    "# Python does not support traditional method overloading (i.e., defining \n",
    "# multiple methods with the same name but different parameters) like some \n",
    "# other programming languages. Instead, Python allows a single method to \n",
    "# handle different types of input using default arguments, variable-length \n",
    "# arguments, or by checking the types and number of arguments within the method.\n",
    "\n",
    "class MyClass:\n",
    "    def add(self, a, b=0, c=0):  # Single method with default values\n",
    "        return a + b + c\n",
    "\n",
    "obj = MyClass()\n",
    "print(obj.add(5))         # Output: 5 (only 'a' is provided)\n",
    "print(obj.add(5, 10))     # Output: 15 (both 'a' and 'b' are provided)\n",
    "print(obj.add(5, 10, 15)) # Output: 30 (all 'a', 'b', and 'c' are provided)\n"
   ]
  },
  {
   "cell_type": "markdown",
   "id": "e49ee3d5",
   "metadata": {},
   "source": [
    "# Question_5th:-. What are the three types of access modifiers in Python? How are they denoted?"
   ]
  },
  {
   "cell_type": "code",
   "execution_count": 6,
   "id": "08a5cc7f",
   "metadata": {},
   "outputs": [],
   "source": [
    "# that control the visibility of class attributes and methods:\n",
    "\n",
    "# 1st:-Public:\n",
    "\n",
    "          # Denotation: No underscore (e.g., attribute)\n",
    "          # Access: Accessible from anywhere, both inside and outside the class.\n",
    "# 2nd:-Protected:-\n",
    "          \n",
    "          # Denotation: Single underscore prefix (e.g., _attribute)\n",
    "          # Access: Intended for internal use within the class and its subclasses, but still accessible outside with a convention to indicate it should not be accessed directly.\n",
    "\n",
    "# 3rd:-Private:\n",
    "\n",
    "          # Denotation: Double underscore prefix (e.g., __attribute)\n",
    "          # Access: Accessible only within the class itself, with name mangling to prevent accidental access from outside.\n",
    "        \n",
    "\n"
   ]
  },
  {
   "cell_type": "markdown",
   "id": "c0560420",
   "metadata": {},
   "source": [
    "# Question_6th:- Describe the five types of inheritance in Python. Provide a simple example of multiple inheretance."
   ]
  },
  {
   "cell_type": "code",
   "execution_count": 7,
   "id": "6e5d4d28",
   "metadata": {},
   "outputs": [
    {
     "name": "stdout",
     "output_type": "stream",
     "text": [
      "Method A from class A\n",
      "Method B from class B\n"
     ]
    }
   ],
   "source": [
    "# Single Inheritance:\n",
    "             # A class inherits from one parent class.\n",
    "             # Example: class B(A): pass\n",
    "        \n",
    "# Multiple Inheritance:\n",
    "\n",
    "             # A class inherits from more than one parent class.\n",
    "             # Example: class C(A, B): pass\n",
    "# Multilevel Inheritance:\n",
    "\n",
    "             # A class is derived from a class that is also derived from another class.\n",
    "             # Example: class C(B): pass, where B is derived from A.\n",
    "# Hierarchical Inheritance:\n",
    "\n",
    "            # Multiple classes inherit from the same parent class.\n",
    "            # Example: class B(A): pass and class C(A): pass\n",
    "\n",
    "# Hybrid Inheritance:\n",
    "\n",
    "            # A combination of two or more types of inheritance.\n",
    "            # Example: Combining multiple and multilevel inheritance.\n",
    "        \n",
    "class A:\n",
    "    def method_a(self):\n",
    "        print(\"Method A from class A\")\n",
    "\n",
    "class B:\n",
    "    def method_b(self):\n",
    "        print(\"Method B from class B\")\n",
    "\n",
    "class C(A, B):  # Multiple inheritance\n",
    "    pass\n",
    "\n",
    "obj = C()\n",
    "obj.method_a()  # Output: Method A from class A\n",
    "obj.method_b()  # Output: Method B from class B\n"
   ]
  },
  {
   "cell_type": "markdown",
   "id": "797dbe43",
   "metadata": {},
   "source": [
    "# Question_7th:- What is the Method Resolution Order (MRO) in Python? How can you retrieve it programmatically?"
   ]
  },
  {
   "cell_type": "code",
   "execution_count": 8,
   "id": "21079d08",
   "metadata": {},
   "outputs": [
    {
     "name": "stdout",
     "output_type": "stream",
     "text": [
      "(<class '__main__.D'>, <class '__main__.B'>, <class '__main__.C'>, <class '__main__.A'>, <class 'object'>)\n",
      "[<class '__main__.D'>, <class '__main__.B'>, <class '__main__.C'>, <class '__main__.A'>, <class 'object'>]\n"
     ]
    }
   ],
   "source": [
    "# Method Resolution Order (MRO) in Python:\n",
    "          # Definition: MRO is the order in which Python looks for a method or attribute in a hierarchy of classes. It determines the sequence of classes to be \n",
    "          # checked when a method is called on an object that has multiple inheritance.\n",
    "\n",
    "          # Linearization: Python uses the C3 linearization algorithm (used in new-style classes) to determine the MRO, ensuring a consistent and predictable order.\n",
    "            \n",
    "            \n",
    "# Example:-\n",
    "class A: pass\n",
    "class B(A): pass\n",
    "class C(A): pass\n",
    "class D(B, C): pass\n",
    "\n",
    "print(D.__mro__)  # Using __mro__ attribute\n",
    "print(D.mro())    # Using mro() method\n"
   ]
  },
  {
   "cell_type": "markdown",
   "id": "947dcc07",
   "metadata": {},
   "source": [
    "# Question_8th:- Create an abstract base class `Shape` with an abstract method `area()`. Then create two subclasses `Circle` and `Rectangle` that implement the `area()` method."
   ]
  },
  {
   "cell_type": "code",
   "execution_count": 9,
   "id": "68214f7c",
   "metadata": {},
   "outputs": [
    {
     "name": "stdout",
     "output_type": "stream",
     "text": [
      "Circle area: 78.53981633974483\n",
      "Rectangle area: 24\n"
     ]
    }
   ],
   "source": [
    "from abc import ABC, abstractmethod\n",
    "import math\n",
    "\n",
    "# Abstract base class\n",
    "class Shape(ABC):\n",
    "    @abstractmethod\n",
    "    def area(self):\n",
    "        pass\n",
    "\n",
    "# Subclass for Circle\n",
    "class Circle(Shape):\n",
    "    def __init__(self, radius):\n",
    "        self.radius = radius\n",
    "    \n",
    "    def area(self):\n",
    "        return math.pi * (self.radius ** 2)\n",
    "\n",
    "# Subclass for Rectangle\n",
    "class Rectangle(Shape):\n",
    "    def __init__(self, width, height):\n",
    "        self.width = width\n",
    "        self.height = height\n",
    "    \n",
    "    def area(self):\n",
    "        return self.width * self.height\n",
    "\n",
    "# Example usage\n",
    "circle = Circle(5)\n",
    "rectangle = Rectangle(4, 6)\n",
    "\n",
    "print(f\"Circle area: {circle.area()}\")      \n",
    "print(f\"Rectangle area: {rectangle.area()}\")\n"
   ]
  },
  {
   "cell_type": "markdown",
   "id": "ea614fa2",
   "metadata": {},
   "source": [
    "# Question_9th:-. Demonstrate polymorphism by creating a function that can work with different shape objects to calculate and print their areas."
   ]
  },
  {
   "cell_type": "code",
   "execution_count": 10,
   "id": "9e02e68d",
   "metadata": {},
   "outputs": [
    {
     "name": "stdout",
     "output_type": "stream",
     "text": [
      "The area is: 78.53981633974483\n",
      "The area is: 24\n"
     ]
    }
   ],
   "source": [
    "from abc import ABC, abstractmethod\n",
    "import math\n",
    "\n",
    "# Abstract base class\n",
    "class Shape(ABC):\n",
    "    @abstractmethod\n",
    "    def area(self):\n",
    "        pass\n",
    "\n",
    "# Subclass for Circle\n",
    "class Circle(Shape):\n",
    "    def __init__(self, radius):\n",
    "        self.radius = radius\n",
    "    \n",
    "    def area(self):\n",
    "        return math.pi * (self.radius ** 2)\n",
    "\n",
    "# Subclass for Rectangle\n",
    "class Rectangle(Shape):\n",
    "    def __init__(self, width, height):\n",
    "        self.width = width\n",
    "        self.height = height\n",
    "    \n",
    "    def area(self):\n",
    "        return self.width * self.height\n",
    "\n",
    "# Function to calculate and print the area of any shape\n",
    "def print_area(shape):\n",
    "    if isinstance(shape, Shape):\n",
    "        print(f\"The area is: {shape.area()}\")\n",
    "    else:\n",
    "        print(\"Invalid shape object\")\n",
    "\n",
    "# Example usage\n",
    "circle = Circle(5)\n",
    "rectangle = Rectangle(4, 6)\n",
    "\n",
    "print_area(circle)     # Output: The area is: 78.53981633974483\n",
    "print_area(rectangle)  # Output: The area is: 24\n"
   ]
  },
  {
   "cell_type": "markdown",
   "id": "925f5f7b",
   "metadata": {},
   "source": [
    "# Question_10th:-. Implement encapsulation in a `BankAccount` class with private attributes for `balance` and `account_number`. Include methods for deposit, withdrawal, and balance inquiry."
   ]
  },
  {
   "cell_type": "code",
   "execution_count": 11,
   "id": "32839606",
   "metadata": {},
   "outputs": [
    {
     "name": "stdout",
     "output_type": "stream",
     "text": [
      "Account Number: 123456789\n",
      "Initial Balance: $1000\n",
      "Deposited $500. New balance is $1500.\n",
      "Withdrew $200. New balance is $1300.\n",
      "Insufficient funds.\n",
      "Final Balance: $1300\n"
     ]
    }
   ],
   "source": [
    "class BankAccount:\n",
    "    def __init__(self, account_number, initial_balance=0):\n",
    "        self.__account_number = account_number \n",
    "        self.__balance = initial_balance        \n",
    "    \n",
    "    def deposit(self, amount):\n",
    "        if amount > 0:\n",
    "            self.__balance += amount\n",
    "            print(f\"Deposited ${amount}. New balance is ${self.__balance}.\")\n",
    "        else:\n",
    "            print(\"Deposit amount must be positive.\")\n",
    "    \n",
    "    def withdraw(self, amount):\n",
    "        if amount > 0:\n",
    "            if amount <= self.__balance:\n",
    "                self.__balance -= amount\n",
    "                print(f\"Withdrew ${amount}. New balance is ${self.__balance}.\")\n",
    "            else:\n",
    "                print(\"Insufficient funds.\")\n",
    "        else:\n",
    "            print(\"Withdrawal amount must be positive.\")\n",
    "    \n",
    "    def get_balance(self):\n",
    "        return self.__balance\n",
    "    \n",
    "    def get_account_number(self):\n",
    "        return self.__account_number\n",
    "\n",
    "account = BankAccount(\"123456789\", 1000)\n",
    "print(f\"Account Number: {account.get_account_number()}\")\n",
    "print(f\"Initial Balance: ${account.get_balance()}\")\n",
    "\n",
    "account.deposit(500)\n",
    "account.withdraw(200)\n",
    "account.withdraw(2000) \n",
    "\n",
    "print(f\"Final Balance: ${account.get_balance()}\")\n"
   ]
  },
  {
   "cell_type": "markdown",
   "id": "0677d517",
   "metadata": {},
   "source": [
    "# Question_11th:- Write a class that overrides the `__str__` and `__add__` magic methods. What will these methods allow you to do?"
   ]
  },
  {
   "cell_type": "code",
   "execution_count": 13,
   "id": "6cf6e474",
   "metadata": {},
   "outputs": [
    {
     "name": "stdout",
     "output_type": "stream",
     "text": [
      "Point(2, 3)\n",
      "Point(4, 5)\n",
      "Point(6, 8)\n"
     ]
    }
   ],
   "source": [
    "class Point:\n",
    "    def __init__(self, x, y):\n",
    "        self.x = x\n",
    "        self.y = y\n",
    "    \n",
    "    def __str__(self):\n",
    "        return f\"Point({self.x}, {self.y})\"\n",
    "    \n",
    "    def __add__(self, other):\n",
    "        if isinstance(other, Point):\n",
    "            return Point(self.x + other.x, self.y + other.y)\n",
    "        return NotImplemented\n",
    "\n",
    "# Example usage\n",
    "p1 = Point(2, 3)\n",
    "p2 = Point(4, 5)\n",
    "\n",
    "print(p1)         \n",
    "print(p2) \n",
    "\n",
    "p3 = p1 + p2\n",
    "print(p3) \n"
   ]
  },
  {
   "cell_type": "markdown",
   "id": "6502c9cc",
   "metadata": {},
   "source": [
    "# Question_12th:- Create a decorator that measures and prints the execution time of a function."
   ]
  },
  {
   "cell_type": "code",
   "execution_count": 17,
   "id": "479da387",
   "metadata": {},
   "outputs": [
    {
     "name": "stdout",
     "output_type": "stream",
     "text": [
      "Execution time of slow_function: 2.0014 seconds\n",
      "Finished\n"
     ]
    }
   ],
   "source": [
    "import time\n",
    "\n",
    "def timer_decorator(func):\n",
    "    def wrapper(*args, **kwargs):\n",
    "        start_time = time.time()  # Record the start time\n",
    "        result = func(*args, **kwargs)  # Call the original function\n",
    "        end_time = time.time()  # Record the end time\n",
    "        execution_time = end_time - start_time  # Calculate the duration\n",
    "        print(f\"Execution time of {func.__name__}: {execution_time:.4f} seconds\")\n",
    "        return result\n",
    "    return wrapper\n",
    "\n",
    "# Example usage\n",
    "@timer_decorator\n",
    "def slow_function(seconds):\n",
    "    time.sleep(seconds)\n",
    "    return \"Finished\"\n",
    "\n",
    "# Correctly calling the function with the required argument\n",
    "print(slow_function(2))  # Output: Execution time of slow_function: X.XXXX seconds\n"
   ]
  },
  {
   "cell_type": "markdown",
   "id": "11e544e3",
   "metadata": {},
   "source": [
    "# Question_13th:-. Explain the concept of the Diamond Problem in multiple inheritance. How does Python resolve it?"
   ]
  },
  {
   "cell_type": "code",
   "execution_count": 18,
   "id": "97d632c8",
   "metadata": {},
   "outputs": [
    {
     "name": "stdout",
     "output_type": "stream",
     "text": [
      "Hello from B\n"
     ]
    }
   ],
   "source": [
    "# The Diamond Problem is a complication that arises in multiple inheritance scenarios where a class inherits from two classes that both inherit from a common base class. This creates a diamond-shaped inheritance structure:\n",
    "\n",
    "class A:\n",
    "    def hello(self):\n",
    "        print(\"Hello from A\")\n",
    "\n",
    "class B(A):\n",
    "    def hello(self):\n",
    "        print(\"Hello from B\")\n",
    "\n",
    "class C(A):\n",
    "    def hello(self):\n",
    "        print(\"Hello from C\")\n",
    "\n",
    "class D(B, C):\n",
    "    pass\n",
    "\n",
    "d = D()\n",
    "d.hello() \n"
   ]
  },
  {
   "cell_type": "markdown",
   "id": "178cf5f2",
   "metadata": {},
   "source": [
    "# Question_14th:- Write a class method that keeps track of the number of instances created from a class."
   ]
  },
  {
   "cell_type": "code",
   "execution_count": 19,
   "id": "8b8fcd2d",
   "metadata": {},
   "outputs": [
    {
     "name": "stdout",
     "output_type": "stream",
     "text": [
      "Number of instances created: 3\n"
     ]
    }
   ],
   "source": [
    "class InstanceCounter:\n",
    "   \n",
    "    instance_count = 0\n",
    "    def __init__(self):\n",
    "        InstanceCounter.instance_count += 1\n",
    "    @classmethod\n",
    "    def get_instance_count(cls):\n",
    "        return cls.instance_count\n",
    "obj1 = InstanceCounter()\n",
    "obj2 = InstanceCounter()\n",
    "obj3 = InstanceCounter()\n",
    "\n",
    "print(f\"Number of instances created: {InstanceCounter.get_instance_count()}\")  # Output: Number of instances created: 3\n"
   ]
  },
  {
   "cell_type": "markdown",
   "id": "1c39dfa3",
   "metadata": {},
   "source": [
    "# Question_15th:-. Implement a static method in a class that checks if a given year is a leap year"
   ]
  },
  {
   "cell_type": "code",
   "execution_count": 20,
   "id": "e05a6028",
   "metadata": {},
   "outputs": [
    {
     "name": "stdout",
     "output_type": "stream",
     "text": [
      "2024 is a leap year: True\n",
      "1900 is a leap year: False\n"
     ]
    }
   ],
   "source": [
    "class DateUtils:\n",
    "    @staticmethod\n",
    "    def is_leap_year(year):\n",
    "        if (year % 4 == 0):\n",
    "            if (year % 100 == 0):\n",
    "                if (year % 400 == 0):\n",
    "                    return True\n",
    "                else:\n",
    "                    return False\n",
    "            else:\n",
    "                return True\n",
    "        else:\n",
    "            return False\n",
    "year = 2024\n",
    "print(f\"{year} is a leap year: {DateUtils.is_leap_year(year)}\") \n",
    "\n",
    "year = 1900\n",
    "print(f\"{year} is a leap year: {DateUtils.is_leap_year(year)}\") \n"
   ]
  },
  {
   "cell_type": "code",
   "execution_count": null,
   "id": "a7e11aa7",
   "metadata": {},
   "outputs": [],
   "source": []
  }
 ],
 "metadata": {
  "kernelspec": {
   "display_name": "Python 3 (ipykernel)",
   "language": "python",
   "name": "python3"
  },
  "language_info": {
   "codemirror_mode": {
    "name": "ipython",
    "version": 3
   },
   "file_extension": ".py",
   "mimetype": "text/x-python",
   "name": "python",
   "nbconvert_exporter": "python",
   "pygments_lexer": "ipython3",
   "version": "3.10.9"
  }
 },
 "nbformat": 4,
 "nbformat_minor": 5
}
